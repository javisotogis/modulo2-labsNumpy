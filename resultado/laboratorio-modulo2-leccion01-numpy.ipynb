{
 "cells": [
  {
   "cell_type": "markdown",
   "id": "6db588db",
   "metadata": {},
   "source": [
    "<div style=\"text-align: center;\">\n",
    "  <img src=\"https://github.com/Hack-io-Data/Imagenes/blob/main/01-LogosHackio/logo_naranja@4x.png?raw=true\" alt=\"esquema\" />\n",
    "</div>"
   ]
  },
  {
   "cell_type": "markdown",
   "id": "a19d4596",
   "metadata": {},
   "source": [
    "#### Ejercicio 1 - Crea un array de 1D con los números del 0 al 9."
   ]
  },
  {
   "cell_type": "code",
   "execution_count": 1,
   "id": "9d4e1d42",
   "metadata": {},
   "outputs": [
    {
     "name": "stdout",
     "output_type": "stream",
     "text": [
      "El array unidimensional creado es: \n",
      "  [0 1 2 3 4 5 6 7 8 9] \n",
      "\n"
     ]
    }
   ],
   "source": [
    "import numpy as np\n",
    "\n",
    "# convertimos la lista en array usando el método 'np.array()' \n",
    "array_unidimensional = np.arange(0,10)\n",
    "print(f\"El array unidimensional creado es: \\n  {array_unidimensional} \\n\")"
   ]
  },
  {
   "cell_type": "markdown",
   "id": "f4a41f16",
   "metadata": {},
   "source": [
    "#### Ejercicio 2 - Convierte un array 1D en un array 2D con 2 filas y 5 columnas."
   ]
  },
  {
   "cell_type": "code",
   "execution_count": 2,
   "id": "3d7cef3c",
   "metadata": {},
   "outputs": [
    {
     "data": {
      "text/plain": [
       "array([[ 1,  2,  3,  4,  5],\n",
       "       [ 6,  7,  8,  9, 10]])"
      ]
     },
     "execution_count": 2,
     "metadata": {},
     "output_type": "execute_result"
    }
   ],
   "source": [
    "array_unidimensional = np.arange(1,11)\n",
    "array_bidimensional = np.reshape(array_unidimensional,(2,5))\n",
    "array_bidimensional"
   ]
  },
  {
   "cell_type": "markdown",
   "id": "86bb8999",
   "metadata": {},
   "source": [
    "#### Ejercicio 3 - Encuentra los índices de los elementos con valor distinto de 0 en el siguiente array: [0, 2, 0, 3, 0, 4, 0]."
   ]
  },
  {
   "cell_type": "code",
   "execution_count": 3,
   "id": "d1fcfca4",
   "metadata": {},
   "outputs": [
    {
     "name": "stdout",
     "output_type": "stream",
     "text": [
      "All index value of 0 is:  [0 2 4 6]\n"
     ]
    }
   ],
   "source": [
    "lista = [0,2,0,3,0,4,0]\n",
    "array_unidimensional = np.array(lista)\n",
    "print(\"All index value of 0 is: \", np.where(array_unidimensional == 0)[0]) # https://www.geeksforgeeks.org/how-to-find-the-index-of-value-in-numpy-array/"
   ]
  },
  {
   "cell_type": "markdown",
   "id": "1c548419",
   "metadata": {},
   "source": [
    "#### Ejercicio 4 - Crea un array 3x3 con valores aleatorios entre 0 y 1."
   ]
  },
  {
   "cell_type": "code",
   "execution_count": null,
   "id": "e1d4f19f",
   "metadata": {},
   "outputs": [
    {
     "data": {
      "text/plain": [
       "array([[[0.90723542, 0.79761501, 0.53474207, 0.69853044],\n",
       "        [0.37523249, 0.48486886, 0.0655753 , 0.77241318],\n",
       "        [0.02818336, 0.91157202, 0.85638548, 0.61095495]],\n",
       "\n",
       "       [[0.6649667 , 0.68153888, 0.10715556, 0.96533295],\n",
       "        [0.41137554, 0.76572839, 0.80710228, 0.04207977],\n",
       "        [0.12764263, 0.55549099, 0.4613364 , 0.49358695]]])"
      ]
     },
     "execution_count": 11,
     "metadata": {},
     "output_type": "execute_result"
    }
   ],
   "source": [
    "array_randint_tri = np.random.random_sample((2, 3, 4))\n",
    "print(np.arange(0,10))\n",
    "array_randint_tri"
   ]
  },
  {
   "cell_type": "markdown",
   "id": "aee82811",
   "metadata": {},
   "source": [
    "#### Ejercicio 5 - Crea un array de 10 números aleatorios y encuentra el valor máximo y mínimo."
   ]
  },
  {
   "cell_type": "code",
   "execution_count": 38,
   "id": "81fea76e",
   "metadata": {},
   "outputs": [
    {
     "data": {
      "text/plain": [
       "'The max value is 93 and the min value is 3'"
      ]
     },
     "execution_count": 38,
     "metadata": {},
     "output_type": "execute_result"
    }
   ],
   "source": [
    "array_aleatorio = np.random.randint(0,100,(10))\n",
    "f\"The max value is {array_aleatorio.max()} and the min value is {array_aleatorio.min()}\""
   ]
  },
  {
   "cell_type": "markdown",
   "id": "6559375b",
   "metadata": {},
   "source": [
    "#### Ejercicio 6 - Crea un array de una dimensión e inviértelo. "
   ]
  },
  {
   "cell_type": "code",
   "execution_count": null,
   "id": "31385db0",
   "metadata": {},
   "outputs": [
    {
     "name": "stdout",
     "output_type": "stream",
     "text": [
      "[99 61 89 72 48 50 40 82  2 24]\n",
      "[-100  -62  -90  -73  -49  -51  -41  -83   -3  -25]\n"
     ]
    }
   ],
   "source": [
    "array_aleatorio = np.random.randint(1,100,(10))\n",
    "print(array_aleatorio)\n",
    "print(np.invert(array_aleatorio))   #https://numpy.org/doc/stable/reference/generated/numpy.invert.html"
   ]
  },
  {
   "cell_type": "markdown",
   "id": "4457f046",
   "metadata": {},
   "source": [
    "\n",
    "#### Ejercicio 6 - Genera un array tridimensional de dimensiones (2, 3, 4) con valores enteros del 1 al 24.\n",
    "\n",
    "- Selecciona el primer `15` del array.\n",
    "\n",
    "- Selecciona todos los elementos del primer array. \n",
    "\n",
    "- Selecciona la última fila del último array\n"
   ]
  },
  {
   "cell_type": "code",
   "execution_count": 113,
   "id": "3cab04c9",
   "metadata": {},
   "outputs": [
    {
     "name": "stdout",
     "output_type": "stream",
     "text": [
      "[[[23 17  8 19]\n",
      "  [11  5  7 16]\n",
      "  [ 1 20  8  1]]\n",
      "\n",
      " [[ 5 13 14  4]\n",
      "  [15 15  1 22]\n",
      "  [ 2  5 21 17]]]\n",
      "Primer 15: 15\n",
      "Primer array: [[23 17  8 19]\n",
      " [11  5  7 16]\n",
      " [ 1 20  8  1]]\n",
      "Ultima final del ultimo array: [ 2  5 21 17]\n"
     ]
    }
   ],
   "source": [
    "array_aleatdorio_3D = np.random.randint(1,24,(2,3,4))\n",
    "print(array_aleatdorio_3D)\n",
    "\n",
    "# Selecciona todos los elementos mayores que 15\n",
    "mascara = array_aleatdorio_3D == 15 # mascara booleana\n",
    "print(f\"Primer 15: {array_aleatdorio_3D[mascara][0]}\") # aplicamos mascara y mos quedamos con el primer 15\n",
    "\n",
    "# selecciona todos los elementos del primer array. Usamos los indices,puesto que sabemos la estrucutra del array. El indice 0 es el primer array\n",
    "print(f\"Primer array: {array_aleatdorio_3D[0]}\")\n",
    "\n",
    "# Selecciona la ultima fila del ultimo array\n",
    "print(f\"Ultima final del ultimo array: {array_aleatdorio_3D[1,2]}\")"
   ]
  },
  {
   "cell_type": "markdown",
   "id": "681b7e4e",
   "metadata": {},
   "source": [
    "\n",
    "#### Ejercicio 7 - Genera un array tridimensional de dimensiones (3, 2, 5) con valores enteros del 1 al 30.\n",
    "\n",
    "- Selecciona el subarray que contiene los dos primeros elementos de cada fila del primer array.\n",
    "\n",
    "- Selecciona el subarray que contiene todas las filas de los dos últimos arrays.\n"
   ]
  },
  {
   "cell_type": "code",
   "execution_count": null,
   "id": "b008a9aa",
   "metadata": {},
   "outputs": [
    {
     "name": "stdout",
     "output_type": "stream",
     "text": [
      "[[[ 1  2  3  4  5]\n",
      "  [ 6  7  8  9 10]]\n",
      "\n",
      " [[11 12 13 14 15]\n",
      "  [16 17 18 19 20]]\n",
      "\n",
      " [[21 22 23 24 25]\n",
      "  [26 27 28 29 30]]]\n",
      "Subarray con los dos primeros elementos de cada fila de cada array:\n",
      " [[[ 1  2]\n",
      "  [ 6  7]]\n",
      "\n",
      " [[11 12]\n",
      "  [16 17]]\n",
      "\n",
      " [[21 22]\n",
      "  [26 27]]]\n",
      "Subarray todas filas ultimos arrays:\n",
      " [[[11 12 13 14 15]\n",
      "  [16 17 18 19 20]]\n",
      "\n",
      " [[21 22 23 24 25]\n",
      "  [26 27 28 29 30]]]\n"
     ]
    }
   ],
   "source": [
    "# Array 3D (3, 2, 5) con valores del 1 al 30\n",
    "array_3d = np.arange(1, 31).reshape(3, 2, 5)\n",
    "print(array_3d)\n",
    "# Selecciona el subarray con los dos primeros elementos de cada fila de cada array\n",
    "\n",
    "print(f\"Subarray con los dos primeros elementos de cada fila de cada array:\\n {array_3d[::,:2,:2]}\")  # seleccionamos los dos arrays, los 2 primeros elementos de cada fila\n",
    "print(f\"Subarray todas filas ultimos arrays:\\n {array_3d[1:,::,::]}\") # contamos a partir del primer elemento y luego cogemos todos\n"
   ]
  },
  {
   "cell_type": "markdown",
   "id": "4fabd9d0",
   "metadata": {},
   "source": [
    "#### Ejercicio 8 - Genera un array tridimensional de dimensiones (4, 3, 2) con valores enteros del 1 al 24.\n",
    "\n",
    "- Cambia todos los elementos de la segunda fila del segundo array por `0`.\n",
    "\n",
    "- Cambia todos los valores del último array a `-1`.\n"
   ]
  },
  {
   "cell_type": "code",
   "execution_count": 161,
   "id": "0ef45b69",
   "metadata": {},
   "outputs": [
    {
     "name": "stdout",
     "output_type": "stream",
     "text": [
      "[[[ 1  2]\n",
      "  [ 3  4]\n",
      "  [ 5  6]]\n",
      "\n",
      " [[ 7  8]\n",
      "  [ 9 10]\n",
      "  [11 12]]\n",
      "\n",
      " [[13 14]\n",
      "  [15 16]\n",
      "  [17 18]]\n",
      "\n",
      " [[19 20]\n",
      "  [21 22]\n",
      "  [23 24]]]\n",
      "[[[ 1  2]\n",
      "  [ 3  4]\n",
      "  [ 5  6]]\n",
      "\n",
      " [[ 7  8]\n",
      "  [ 0  0]\n",
      "  [11 12]]\n",
      "\n",
      " [[13 14]\n",
      "  [15 16]\n",
      "  [17 18]]\n",
      "\n",
      " [[19 20]\n",
      "  [21 22]\n",
      "  [23 24]]]\n",
      "[[[ 1  2]\n",
      "  [ 3  4]\n",
      "  [ 5  6]]\n",
      "\n",
      " [[ 7  8]\n",
      "  [ 0  0]\n",
      "  [11 12]]\n",
      "\n",
      " [[13 14]\n",
      "  [15 16]\n",
      "  [17 18]]\n",
      "\n",
      " [[-1 -1]\n",
      "  [-1 -1]\n",
      "  [-1 -1]]]\n"
     ]
    }
   ],
   "source": [
    "\n",
    "\n",
    "array_3d = np.arange(1, 25).reshape(4,3,2)\n",
    "print(array_3d)\n",
    "\n",
    "# Cambia todos los elementos de la segunda fila del segundo array por 0\n",
    "array_3d[1,1,::] = [0] ## https://www.geeksforgeeks.org/how-to-change-a-single-value-in-a-numpy-array/\n",
    "print(array_3d)\n",
    "\n",
    "# Cambia todos los elementos del ultimo array a -1\n",
    "array_3d[3,::,::] = [-1]\n",
    "print(array_3d)"
   ]
  },
  {
   "cell_type": "markdown",
   "id": "c60bc3bb",
   "metadata": {},
   "source": [
    "\n",
    "#### Ejercicio 9 - Genera un array tridimensional de dimensiones (2, 4, 3) con valores enteros del -10 al 13.\n",
    "\n",
    "- Selecciona todos los elementos mayores a `5`.\n",
    "\n",
    "- Reemplaza todos los elementos negativos por `0`.\n"
   ]
  },
  {
   "cell_type": "code",
   "execution_count": null,
   "id": "28bf9232",
   "metadata": {},
   "outputs": [
    {
     "data": {
      "text/plain": [
       "array([[[ 0,  0,  0],\n",
       "        [ 0,  0,  0],\n",
       "        [ 0,  0,  0],\n",
       "        [ 0,  0,  1]],\n",
       "\n",
       "       [[ 2,  3,  4],\n",
       "        [ 5,  6,  7],\n",
       "        [ 8,  9, 10],\n",
       "        [11, 12, 13]]])"
      ]
     },
     "execution_count": 167,
     "metadata": {},
     "output_type": "execute_result"
    }
   ],
   "source": [
    "array_3d = np.arange(-10,14).reshape(2,4,3)\n",
    "print(array_3d)\n",
    "\n",
    "# selecciona todos los elementos mayores a 5\n",
    "mascara = array_3d > 5 # mascara booleana\n",
    "print(f\"Elementos mayores a 5: {array_3d[mascara]}\") # aplicamos mascara y mos quedamos con el primer 15\n",
    "\n",
    "# Reemplazamos todos los elementos negativos por 0 ## https://www.projectpro.io/recipes/replace-items-that-satisfy-condition-with-another-value-numpy-array\n",
    "\n",
    "condicion = (array_3d < 0) # define la condition, todos los valores menores que 0\n",
    "nuevo_valor = 0 # nuevo valor\n",
    "array_3d[condicion] = nuevo_valor # realiza el reemplazo\n",
    "print(array_3d)\n",
    "\n"
   ]
  },
  {
   "cell_type": "markdown",
   "id": "ab38a3be",
   "metadata": {},
   "source": [
    "#### Ejercicio 10 - Genera un array tridimensional de dimensiones (3, 3, 3) con valores enteros del 1 al 27.\n",
    "\n",
    "- Selecciona el subarray del segundo array que contenga solo las dos primeras columnas.\n",
    "\n",
    "- Selecciona todos los elementos del tercer array que sean mayores que `20`.\n"
   ]
  },
  {
   "cell_type": "code",
   "execution_count": null,
   "id": "78c979cf",
   "metadata": {},
   "outputs": [],
   "source": [
    "array_3d = np.arange(1, 28).reshape(3,3,3)\n",
    "print(array_3d)\n",
    "\n",
    "## Selecciona el subarray del segundo array que contenga solo las dos primeras columnas\n",
    "mascara = array_3d > 5 # mascara booleana\n",
    "print(f\"Primer 15: {array_aleatdorio_3D[mascara][0]}\") # aplicamos mascara y mos quedamos con el primer 15"
   ]
  },
  {
   "cell_type": "markdown",
   "id": "f1a00156",
   "metadata": {},
   "source": [
    "#### Ejercicio 11 - Crea un array de 10 números aleatorios y reemplaza los valores máximos y mínimos por 0."
   ]
  },
  {
   "cell_type": "code",
   "execution_count": 190,
   "id": "990fa526",
   "metadata": {},
   "outputs": [
    {
     "name": "stdout",
     "output_type": "stream",
     "text": [
      "[48 38 27 50 67 80 48 56 24 86]\n",
      "[48 38 27 50 67 80 48 56  0  0]\n"
     ]
    }
   ],
   "source": [
    "array_aleatorio = np.random.randint(0,100,(10))\n",
    "print(array_aleatorio)\n",
    "\n",
    "## reemplazar valores \n",
    "maximo = np.max(array_aleatorio)\n",
    "minimo = np.min(array_aleatorio)\n",
    "\n",
    "# reemplaza max\n",
    "condicion = (array_aleatorio == maximo) # define la condition\n",
    "nuevo_valor = 0 # nuevo valor\n",
    "array_aleatorio[condicion] = nuevo_valor # realiza el reemplazo\n",
    "\n",
    "# reemplaza min\n",
    "condicion = (array_aleatorio == minimo) # define la condition\n",
    "nuevo_valor = 0 # nuevo valor\n",
    "array_aleatorio[condicion] = nuevo_valor # realiza el reemplazo\n",
    "\n",
    "print(array_aleatorio)"
   ]
  },
  {
   "cell_type": "markdown",
   "id": "781fafd0",
   "metadata": {},
   "source": [
    "#### Ejercicio 12 - Genera un array de 15 números aleatorios enteros entre 1 y 100 y reordénalo en orden ascendente."
   ]
  },
  {
   "cell_type": "code",
   "execution_count": 192,
   "id": "caa4fd47",
   "metadata": {},
   "outputs": [
    {
     "name": "stdout",
     "output_type": "stream",
     "text": [
      "[10 34 65 10  5 88 91 88 14  4 35 38 83 47 50]\n",
      "[ 4  5 10 10 14 34 35 38 47 50 65 83 88 88 91]\n"
     ]
    }
   ],
   "source": [
    "array_aleatorio = np.random.randint(1,100,(15))\n",
    "print(array_aleatorio)\n",
    "\n",
    "ordenadito = np.sort(array_aleatorio)\n",
    "print(ordenadito)\n",
    "\n",
    "\n"
   ]
  },
  {
   "cell_type": "markdown",
   "id": "45f10c3e",
   "metadata": {},
   "source": [
    "#### Ejercicio 11 - Calcula la suma de los elementos a lo largo de las filas y columnas en una matriz 4x4."
   ]
  },
  {
   "cell_type": "code",
   "execution_count": null,
   "id": "90220788",
   "metadata": {},
   "outputs": [
    {
     "name": "stdout",
     "output_type": "stream",
     "text": [
      "[[80 37  7 59]\n",
      " [27 33 59 99]\n",
      " [20 41 60 15]\n",
      " [56 16 19 19]]\n",
      "[183 127 145 192]\n",
      "[183 218 136 110]\n"
     ]
    }
   ],
   "source": [
    "array_2D = np.random.randint(1,100,(4,4))\n",
    "print(array_2D)\n",
    "#Columnas\n",
    "suma0 = np.sum(array_2D, axis=0)\n",
    "print(suma0)\n",
    "#Filas\n",
    "suma1 = np.sum(array_2D, axis=1)\n",
    "print(suma1)"
   ]
  },
  {
   "cell_type": "markdown",
   "id": "69b9751a",
   "metadata": {},
   "source": [
    "#### Ejercicio 12 - Crea una matriz de 5x5 con valores en el borde igual a 1 y en el interior igual a 0."
   ]
  },
  {
   "cell_type": "code",
   "execution_count": null,
   "id": "eca81323",
   "metadata": {},
   "outputs": [
    {
     "data": {
      "text/plain": [
       "array([[1., 1., 1., 1., 1.],\n",
       "       [1., 0., 0., 0., 1.],\n",
       "       [1., 0., 0., 0., 1.],\n",
       "       [1., 0., 0., 0., 1.],\n",
       "       [1., 1., 1., 1., 1.]])"
      ]
     },
     "execution_count": 206,
     "metadata": {},
     "output_type": "execute_result"
    }
   ],
   "source": [
    "array_2D = np.zeros((5,5))\n",
    "valor = 1 #valor a reemplazar\n",
    "array_2D[0, :] = valor # fila 1\n",
    "array_2D[4, :] = valor  # fila 5\n",
    "array_2D[:, 0] = valor  # columna 1\n",
    "array_2D[:, 4] = valor  # columna 5\n",
    "\n",
    "array_2D\n",
    "\n",
    "\n"
   ]
  },
  {
   "cell_type": "markdown",
   "id": "1ea8068d",
   "metadata": {},
   "source": [
    "#### Ejercicio 13 - Calcula la media y la desviación estándar de un array de 10 números aleatorios."
   ]
  },
  {
   "cell_type": "code",
   "execution_count": 208,
   "id": "05dd579d",
   "metadata": {},
   "outputs": [
    {
     "name": "stdout",
     "output_type": "stream",
     "text": [
      "La media es 6.3125 y la desviacione standar es 1.9273929931386593\n"
     ]
    }
   ],
   "source": [
    "array_2D = np.random.randint(1,10,(4,4))\n",
    "media = np.mean(array_2D)\n",
    "devstd = np.std(array_2D)\n",
    "\n",
    "print(f\"La media es {media} y la desviacione standar es {devstd}\")\n",
    "\n"
   ]
  },
  {
   "cell_type": "markdown",
   "id": "6add6669",
   "metadata": {},
   "source": [
    "#### Ejercicio 14 - Genera un array tridimensional de dimensiones (2, 3, 4) con valores enteros del 1 al 24.\n",
    "\n",
    "- Transpón el array para intercambiar los ejes de la forma (2, 3, 4) a (4, 3, 2).\n",
    "\n",
    "- Observa cómo cambian las posiciones de los elementos y sus índices después de la transposición. Explica en una celda de markdown que es lo que ha pasado. \n"
   ]
  },
  {
   "cell_type": "code",
   "execution_count": null,
   "id": "b172734b",
   "metadata": {},
   "outputs": [
    {
     "name": "stdout",
     "output_type": "stream",
     "text": [
      "Array original (2, 3, 4):\n",
      "[[[ 1  2  3  4]\n",
      "  [ 5  6  7  8]\n",
      "  [ 9 10 11 12]]\n",
      "\n",
      " [[13 14 15 16]\n",
      "  [17 18 19 20]\n",
      "  [21 22 23 24]]]\n",
      "\n",
      "Array transpuesto (4, 3, 2):\n",
      "[[[ 1 13]\n",
      "  [ 5 17]\n",
      "  [ 9 21]]\n",
      "\n",
      " [[ 2 14]\n",
      "  [ 6 18]\n",
      "  [10 22]]\n",
      "\n",
      " [[ 3 15]\n",
      "  [ 7 19]\n",
      "  [11 23]]\n",
      "\n",
      " [[ 4 16]\n",
      "  [ 8 20]\n",
      "  [12 24]]]\n"
     ]
    }
   ],
   "source": [
    "array_3d = np.arange(1, 25).reshape(2, 3, 4)\n",
    "\n",
    "array_transpuesto = np.transpose(array_3d, (2, 1, 0))\n",
    "\n",
    "print(\"Array original (2, 3, 4):\")\n",
    "print(array_3d)\n",
    "\n",
    "print(\"\\nArray transpuesto (4, 3, 2):\")\n",
    "print(array_transpuesto)"
   ]
  },
  {
   "cell_type": "markdown",
   "id": "8e10e12c",
   "metadata": {},
   "source": [
    "Con 4,3,2 lo que queremos hacer es pasar de un array de 2 arrays, 3 filas y 4 columnas a uno de 4 arrays de 3 filas cada uno y 2 columnas.\n",
    "\n",
    "- EL numero de arrays pasa a sar el numero de columnas. \n",
    "- El numero de filas se mantiene.\n",
    "- El numero columnas pasa a ser el numero de arrays. \n",
    "\n",
    "En este caso definimos el order que queremos de salida (2,1,0)\n",
    "\n",
    "```python\n",
    "np.transpose(multidimensional, (2,1,0))\n",
    "```\n",
    "\n",
    "Si nos fijamos lo que hacemos en la tupla es, basándonos en las posiciones de la tupla:\n",
    "\n",
    "- ¿Qué quiero en la posición 0 de la tupla (y por lo tanto de mi nuevo *array* transpuesto*? -- > lo que antes era la posición 2. Por lo tanto, pongo un 2\n",
    "\n",
    "\n",
    "- ¿Qué quiero en la posción 1? --> lo que antes era la posición 1. Por lo tanto, pongo un 1\n",
    "\n",
    "\n",
    "\n",
    "- ¿Qué quiero en la posición 2? --> lo que antes era la posición 0. Por lo tanto, pongo un 0"
   ]
  },
  {
   "cell_type": "markdown",
   "id": "1e32b5e6",
   "metadata": {},
   "source": [
    "#### Ejercicio 15 - Genera un array tridimensional de dimensiones (3, 4, 2) con valores enteros del 1 al 24.\n",
    "\n",
    "- Transpón el array para intercambiar el primer y segundo eje, de manera que la nueva forma del array sea (4, 3, 2).\n"
   ]
  },
  {
   "cell_type": "code",
   "execution_count": 232,
   "id": "0146fdd6",
   "metadata": {},
   "outputs": [
    {
     "name": "stdout",
     "output_type": "stream",
     "text": [
      "Array original (3, 4, 2):\n",
      "[[[ 1  2]\n",
      "  [ 3  4]\n",
      "  [ 5  6]\n",
      "  [ 7  8]]\n",
      "\n",
      " [[ 9 10]\n",
      "  [11 12]\n",
      "  [13 14]\n",
      "  [15 16]]\n",
      "\n",
      " [[17 18]\n",
      "  [19 20]\n",
      "  [21 22]\n",
      "  [23 24]]]\n",
      "\n",
      "Array transpuesto (4, 3, 2):\n",
      "[[[ 1  2]\n",
      "  [ 9 10]\n",
      "  [17 18]]\n",
      "\n",
      " [[ 3  4]\n",
      "  [11 12]\n",
      "  [19 20]]\n",
      "\n",
      " [[ 5  6]\n",
      "  [13 14]\n",
      "  [21 22]]\n",
      "\n",
      " [[ 7  8]\n",
      "  [15 16]\n",
      "  [23 24]]]\n"
     ]
    }
   ],
   "source": [
    "array_3d = np.arange(1, 25).reshape(3,4,2)\n",
    "\n",
    "array_transpuesto = np.transpose(array_3d, (1,0,2))\n",
    "\n",
    "print(\"Array original (3, 4, 2):\")\n",
    "print(array_3d)\n",
    "\n",
    "print(\"\\nArray transpuesto (4, 3, 2):\")\n",
    "print(array_transpuesto)"
   ]
  },
  {
   "cell_type": "markdown",
   "id": "fcf92586",
   "metadata": {},
   "source": [
    "#### Ejercicio 16 - Genera un array tridimensional de dimensiones (3, 2, 4) con valores enteros del 1 al 24.\n",
    "\n",
    "- Realiza una rotación completa de los ejes para convertir la forma original (3, 2, 4) en (4, 3, 2).\n"
   ]
  },
  {
   "cell_type": "code",
   "execution_count": 239,
   "id": "dd2c7f27",
   "metadata": {},
   "outputs": [
    {
     "name": "stdout",
     "output_type": "stream",
     "text": [
      "[[[ 1  2  3  4]\n",
      "  [ 5  6  7  8]]\n",
      "\n",
      " [[ 9 10 11 12]\n",
      "  [13 14 15 16]]\n",
      "\n",
      " [[17 18 19 20]\n",
      "  [21 22 23 24]]]\n"
     ]
    },
    {
     "data": {
      "text/plain": [
       "array([[[ 1,  9, 17],\n",
       "        [ 5, 13, 21]],\n",
       "\n",
       "       [[ 2, 10, 18],\n",
       "        [ 6, 14, 22]],\n",
       "\n",
       "       [[ 3, 11, 19],\n",
       "        [ 7, 15, 23]],\n",
       "\n",
       "       [[ 4, 12, 20],\n",
       "        [ 8, 16, 24]]])"
      ]
     },
     "execution_count": 239,
     "metadata": {},
     "output_type": "execute_result"
    }
   ],
   "source": [
    "array_3d = np.arange(1, 25).reshape(3,2,4)\n",
    "print(array_3d)\n",
    "array_transpose = array_3d.transpose()\n",
    "array_transpose"
   ]
  },
  {
   "cell_type": "markdown",
   "id": "1795e11f",
   "metadata": {},
   "source": [
    "#### Ejercicio 17 - Manipulación de Arrays en 3D\n",
    "\n",
    "- Crea un array tridimensional con dimensiones (3, 4, 5) cuyos elementos sean números enteros aleatorios entre -10 y 10.\n",
    "\n",
    "- Crea un array vacío con la misma forma y dimensiones que el array creado anteriormente. Luego, reemplaza los valores de la matriz vacía basada en los valores del primer array bajo las siguientes condiciones:\n",
    "\n",
    "   - Si el valor es igual a la mediana, se reemplaza por `\"M\"`.\n",
    "\n",
    "   - Si el valor es mayor que la mediana, se reemplaza por `\"X\"`.\n",
    "\n",
    "   - Si el valor es menor que la mediana, se reemplaza por `\"Y\"`.\n",
    "\n",
    "   - Si el valor es igual al máximo, se reemplaza por `\"MAX\"`.\n",
    "\n",
    "   - Si el valor es igual al mínimo, se reemplaza por `\"MIN\"`.\n"
   ]
  },
  {
   "cell_type": "code",
   "execution_count": null,
   "id": "d309b397",
   "metadata": {},
   "outputs": [
    {
     "name": "stdout",
     "output_type": "stream",
     "text": [
      "[[[  0  -3  -8  -3   0]\n",
      "  [  6  -3   2  -1  -3]\n",
      "  [  0   9   0  -5  -4]\n",
      "  [ -3  -6   8   1  -9]]\n",
      "\n",
      " [[ -9   8   0   4 -10]\n",
      "  [ -2  -8   7  -2   1]\n",
      "  [  5  -3   1   8   0]\n",
      "  [  4  -4   0  -6   5]]\n",
      "\n",
      " [[  7  -9   2   9  -2]\n",
      "  [ -4   7   9  -5  -9]\n",
      "  [ -1  -2  -7   1  -3]\n",
      "  [  7   9   9  -3  -4]]]\n",
      "\n",
      "------EMPTY ARRAY------\n",
      "\n",
      "[[[ 1.08703609e-311  1.08701884e-311  2.33419537e-312  0.00000000e+000\n",
      "    1.39067116e-309]\n",
      "  [ 8.69169479e-311  2.14745974e-311  1.69760311e-313  0.00000000e+000\n",
      "    0.00000000e+000]\n",
      "  [ 0.00000000e+000  0.00000000e+000  0.00000000e+000  1.55367112e+030\n",
      "   -3.72620332e-212]\n",
      "  [ 1.67637668e-312  5.01402526e+180  5.15723648e-062  2.86523877e+161\n",
      "    2.42847723e+098]]\n",
      "\n",
      " [[ 4.81778088e+209  3.55152101e+180  5.73116149e-322  0.00000000e+000\n",
      "    0.00000000e+000]\n",
      "  [ 0.00000000e+000  0.00000000e+000  0.00000000e+000  0.00000000e+000\n",
      "    0.00000000e+000]\n",
      "  [ 4.94065646e-324  0.00000000e+000  0.00000000e+000  0.00000000e+000\n",
      "    0.00000000e+000]\n",
      "  [ 0.00000000e+000  0.00000000e+000  0.00000000e+000  0.00000000e+000\n",
      "    0.00000000e+000]]\n",
      "\n",
      " [[ 0.00000000e+000  0.00000000e+000  0.00000000e+000  1.33504432e-306\n",
      "    4.94065646e-324]\n",
      "  [ 1.08704713e-311  2.12199579e-314  0.00000000e+000  0.00000000e+000\n",
      "    8.28914487e-316]\n",
      "  [ 9.76273716e-321  0.00000000e+000  9.78249979e-321  2.12199579e-314\n",
      "    0.00000000e+000]\n",
      "  [ 0.00000000e+000  1.08704713e-311  0.00000000e+000  0.00000000e+000\n",
      "    0.00000000e+000]]]\n",
      "\n",
      "------Si valor igual a la mediana, se reemplaza por M------\n",
      "\n",
      "8.029634803586412e+207\n"
     ]
    },
    {
     "ename": "ValueError",
     "evalue": "could not convert string to float: 'M'",
     "output_type": "error",
     "traceback": [
      "\u001b[1;31m---------------------------------------------------------------------------\u001b[0m",
      "\u001b[1;31mValueError\u001b[0m                                Traceback (most recent call last)",
      "Cell \u001b[1;32mIn[3], line 19\u001b[0m\n\u001b[0;32m     17\u001b[0m condicion \u001b[38;5;241m=\u001b[39m (array_empty \u001b[38;5;241m==\u001b[39m mediana) \u001b[38;5;66;03m# define la condition\u001b[39;00m\n\u001b[0;32m     18\u001b[0m nuevo_valor \u001b[38;5;241m=\u001b[39m \u001b[38;5;124m'\u001b[39m\u001b[38;5;124mM\u001b[39m\u001b[38;5;124m'\u001b[39m \u001b[38;5;66;03m# nuevo valor\u001b[39;00m\n\u001b[1;32m---> 19\u001b[0m \u001b[43marray_empty\u001b[49m\u001b[43m[\u001b[49m\u001b[43mcondicion\u001b[49m\u001b[43m]\u001b[49m \u001b[38;5;241m=\u001b[39m nuevo_valor \u001b[38;5;66;03m# realiza el reemplazo\u001b[39;00m\n\u001b[0;32m     20\u001b[0m array_empty\n\u001b[0;32m     22\u001b[0m \u001b[38;5;66;03m# Si valor mayor a la mediana, se reemplaza por X\u001b[39;00m\n\u001b[0;32m     23\u001b[0m \n\u001b[0;32m     24\u001b[0m \u001b[38;5;66;03m# Si valor menor a la mediana, se reemplaza por Y\u001b[39;00m\n\u001b[1;32m   (...)\u001b[0m\n\u001b[0;32m     27\u001b[0m \n\u001b[0;32m     28\u001b[0m \u001b[38;5;66;03m# Si valor igual al Minimo, se reemplaza por MIN\u001b[39;00m\n",
      "\u001b[1;31mValueError\u001b[0m: could not convert string to float: 'M'"
     ]
    }
   ],
   "source": [
    "import numpy as np\n",
    "# Array 3D \n",
    "array_3D = np.random.randint(-10,10,(3,4,5))\n",
    "print(array_3D)\n",
    "\n",
    "print(\"\\n------EMPTY ARRAY------\\n\")\n",
    "\n",
    "# Array Empty \n",
    "array_empty = np.empty((3,4,5))\n",
    "\n",
    "print(array_empty)\n",
    "\n",
    "# Si valor igual a la mediana, se reemplaza por M\n",
    "print(\"\\n------Si valor igual a la mediana, se reemplaza por M------\\n\")\n",
    "mediana = np.mean(array_empty)\n",
    "print(mediana)\n",
    "condicion = (array_empty == mediana) # define la condition\n",
    "nuevo_valor = 'M' # nuevo valor\n",
    "array_empty[condicion] = nuevo_valor # realiza el reemplazo\n",
    "array_empty\n",
    "\n",
    "##!!!!! No entinedo este ejercicio, por que pide reemplzar valores con letras en un array???\n",
    "\n",
    "# Si valor mayor a la mediana, se reemplaza por X\n",
    "\n",
    "# Si valor menor a la mediana, se reemplaza por Y\n",
    "\n",
    "# Si valor igual al Maximo, se reemplaza por MAX\n",
    "\n",
    "# Si valor igual al Minimo, se reemplaza por MIN\n"
   ]
  },
  {
   "cell_type": "markdown",
   "id": "83794704",
   "metadata": {},
   "source": [
    "#### Ejercicio 18 - Verificación de Filas y Columnas Iguales\n",
    "\n",
    "Crea un array bidimensional de dimensiones 4x4, escribe un código para determinar si alguna fila es exactamente igual a alguna columna.\n",
    "\n",
    "**Reglas:**\n",
    "\n",
    "- No puedes usar funciones predefinidas de NumPy para comparar filas y columnas (`np.array_equal`, etc.).\n",
    "\n",
    "- Debes resolverlo con estructuras básicas de Python (bucles, condicionales, etc.).\n",
    "\n",
    "- Debes revisar si hay al menos una fila que coincida exactamente con alguna columna.\n",
    "\n",
    "**Pistas**:\n",
    "\n",
    "- Puedes recorrer cada fila y cada columna de la matriz usando bucles.\n",
    "\n",
    "- Para comparar una fila con una columna, puedes hacerlo elemento por elemento."
   ]
  },
  {
   "cell_type": "code",
   "execution_count": 84,
   "id": "afd51c60",
   "metadata": {},
   "outputs": [
    {
     "name": "stdout",
     "output_type": "stream",
     "text": [
      "[[1 1 2 1]\n",
      " [1 2 1 2]\n",
      " [1 1 1 2]\n",
      " [2 2 1 2]]\n",
      "\n",
      "----------Lista de Filas--------\n",
      "\n",
      "[[1, 1, 2, 1], [1, 2, 1, 2], [1, 1, 1, 2], [2, 2, 1, 2]]\n",
      "\n",
      "----------Lista de columnas--------\n",
      "\n",
      "[[1, 1, 1, 2], [1, 2, 1, 2], [2, 1, 1, 1], [1, 2, 2, 2]]\n",
      "\n",
      "No hay filas repetidas\n",
      "\n",
      "La fila [1, 2, 1, 2] esta presente en alguna columna\n",
      "\n",
      "La fila [1, 1, 1, 2] esta presente en alguna columna\n",
      "\n",
      "No hay filas repetidas\n"
     ]
    }
   ],
   "source": [
    "array_bi = np.random.randint(1,3,(4,4))  ## hacemos un sencillito para que tenga chicha\n",
    "print(array_bi)\n",
    "print(\"\\n----------Lista de Filas--------\\n\")\n",
    "\n",
    "lista_de_filas = [] ## https://www.geeksforgeeks.org/python-convert-array-ordinary-list-items/\n",
    "\n",
    "for element in array_bi:\n",
    "    lista_de_filas.append(list(element)) # para convertirlo a lista\n",
    "\n",
    "print(lista_de_filas)\n",
    "\n",
    "print(\"\\n----------Lista de columnas--------\\n\")\n",
    "lista_de_columnas = []\n",
    "\n",
    "for element in np.transpose(array_bi):\n",
    "    lista_de_columnas.append(list(element)) # para convertirlo a lista\n",
    "\n",
    "print(lista_de_columnas)\n",
    "\n",
    "for filas in lista_de_filas:\n",
    "    if filas in lista_de_columnas:\n",
    "        print(f\"\\nLa fila {filas} esta presente en alguna columna\")\n",
    "    else:\n",
    "        print(f\"\\nNo hay filas repetidas\")"
   ]
  }
 ],
 "metadata": {
  "kernelspec": {
   "display_name": "data_analytics_env",
   "language": "python",
   "name": "python3"
  },
  "language_info": {
   "codemirror_mode": {
    "name": "ipython",
    "version": 3
   },
   "file_extension": ".py",
   "mimetype": "text/x-python",
   "name": "python",
   "nbconvert_exporter": "python",
   "pygments_lexer": "ipython3",
   "version": "3.8.20"
  }
 },
 "nbformat": 4,
 "nbformat_minor": 5
}
